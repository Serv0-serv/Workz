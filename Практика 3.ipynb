{
  "nbformat": 4,
  "nbformat_minor": 0,
  "metadata": {
    "colab": {
      "provenance": []
    },
    "kernelspec": {
      "name": "python3",
      "display_name": "Python 3"
    },
    "language_info": {
      "name": "python"
    }
  },
  "cells": [
    {
      "cell_type": "markdown",
      "source": [
        "ФИО"
      ],
      "metadata": {
        "id": "phMKaFq3DN13"
      }
    },
    {
      "cell_type": "code",
      "execution_count": null,
      "metadata": {
        "id": "3CWpaI7SDK8t"
      },
      "outputs": [],
      "source": [
        "Первушин Юрий Александрович"
      ]
    },
    {
      "cell_type": "markdown",
      "source": [
        "**Во всей практике нельзя применять библиотеки предоставляющие готовые решения!**"
      ],
      "metadata": {
        "id": "jyIy3GOgFOCe"
      }
    },
    {
      "cell_type": "markdown",
      "source": [
        "# **Задача 1.**\n"
      ],
      "metadata": {
        "id": "XizmlL1RK2t3"
      }
    },
    {
      "cell_type": "markdown",
      "source": [
        "\n",
        "\n",
        "Типы данных Напишите программу на Python, которая принимает список чисел в качестве входных данных от пользователя, а затем выводит сумму, среднее значение и максимальное значение из списка.\n",
        "\n",
        "***Нельзя использовать: len(), min(), max(), average(), sum()***\n",
        "\n",
        "Ввод:\n",
        "```\n",
        "1 2 3 4 5 6 7\n",
        "```\n",
        "Вывод:\n",
        "\n",
        "```\n",
        "Сумма чисел: 28\n",
        "Среднее арифм.: 4.0\n",
        "Максимальное значение: 7\n",
        "```\n",
        "\n"
      ],
      "metadata": {
        "id": "p0v6KtHTFKSd"
      }
    },
    {
      "cell_type": "code",
      "source": [
        "chis=input()\n",
        "spis=chis.split()\n",
        "k=0\n",
        "sum=0\n",
        "arif=0\n",
        "max=0\n",
        "for y in spis:\n",
        "  x=int(y)\n",
        "  sum+=x\n",
        "  arif+=x\n",
        "  if max<x:\n",
        "    max=x\n",
        "  k+=1\n",
        "arif/=k\n",
        "print('Сумма чисел:', sum)\n",
        "print('Среднее арифм.:',arif)\n",
        "print('Максимальное значение:',max)"
      ],
      "metadata": {
        "id": "0e1Virl0FpF6",
        "colab": {
          "base_uri": "https://localhost:8080/"
        },
        "outputId": "491d1c00-588b-407d-d2d4-1d50755ab705"
      },
      "execution_count": null,
      "outputs": [
        {
          "output_type": "stream",
          "name": "stdout",
          "text": [
            "1 2 3 4 5 6 7\n",
            "Сумма чисел: 28\n",
            "Среднее арифм.: 4.0\n",
            "Максимальное значение: 7\n"
          ]
        }
      ]
    },
    {
      "cell_type": "markdown",
      "source": [
        "# **Задача 2.**"
      ],
      "metadata": {
        "id": "uFluc5OSK0NH"
      }
    },
    {
      "cell_type": "markdown",
      "source": [
        "\n",
        "Напишите программу на Python, которая принимает список слов в качестве входных данных от пользователя, а затем распечатывает список в обратном порядке.\n",
        "\n",
        "Ввод:\n",
        "\n",
        "```\n",
        "апельсин мандарин яблоко\n",
        "```\n",
        "\n",
        "Вывод:\n",
        "\n",
        "```\n",
        "яблоко мандарин апельсин\n",
        "```"
      ],
      "metadata": {
        "id": "6T8vg324GG4Z"
      }
    },
    {
      "cell_type": "code",
      "source": [
        "word=input()\n",
        "spis=word.split()\n",
        "fin=spis.reverse()\n",
        "print(spis)"
      ],
      "metadata": {
        "id": "v3AWj4ufGKox",
        "colab": {
          "base_uri": "https://localhost:8080/"
        },
        "outputId": "abc57810-b8f4-4032-acd6-14358f0e5181"
      },
      "execution_count": null,
      "outputs": [
        {
          "output_type": "stream",
          "name": "stdout",
          "text": [
            "апельсин мандарин яблоко\n",
            "['яблоко', 'мандарин', 'апельсин']\n"
          ]
        }
      ]
    },
    {
      "cell_type": "markdown",
      "source": [
        "# **Задача 3**"
      ],
      "metadata": {
        "id": "D1KkCxtIKxRx"
      }
    },
    {
      "cell_type": "markdown",
      "source": [
        "Простой чат-бот\n",
        "Создайте простого чат-бота, который отвечает на основные запросы пользователей. Программа должна использовать условные выражения для определения намерений пользователя и последующего соответствующего ответа.\n",
        "\n",
        "Чат бот может:\n",
        "\n",
        "- помогать складывать числа\n",
        "- подсказывать фильм, музыку и тд (из заранее созданного списка)\n",
        "- создавать список дел (а также выводить его, обновлять, очищать)\n",
        "\n",
        "Интерфейс чат-бота на ваше усмотрение, это могут быть как заранее определенные команды, так и к примеру вызов команды по номеру\n",
        "\n",
        "*Реализовать без использования функций*\n",
        "\n",
        "Пример:\n",
        "\n",
        "Ввод:\n",
        "\n",
        "```\n",
        "Олег, какую мызыку посоветуешь?\n",
        "```\n",
        "\n",
        "Вывод:\n",
        "\n",
        "```\n",
        "Я бы посоветовал вам: Led Zeppelin Stairway to Heaven\n",
        "```"
      ],
      "metadata": {
        "id": "Yq8Jgb9yHvSi"
      }
    },
    {
      "cell_type": "code",
      "source": [
        "import random\n",
        "musiclib = ['World Beyond: The Remnants', 'Disturbed: The Curse', 'Powerwolf: Fire&Fogive']\n",
        "filmlib = ['Star Wars', 'Gay-niggers from deep space','Oppenhaimer'] #такой фильм реально существует\n",
        "exec = 0\n",
        "while exec == 0:\n",
        "  order = input().split()\n",
        "  summ = 0\n",
        "  for i in order:\n",
        "    if i == 'сумма' or i == 'сложить':\n",
        "      numbers = [n for n in order if n.isdigit()]\n",
        "      for y in numbers:\n",
        "        summ += y\n",
        "      print('Сумма этих чисел равна:', summ)\n",
        "    elif i == 'музыку' or i == 'музыка':\n",
        "      print('Я бы посоветовал вам:', random.choise(musiclib))\n",
        "    elif i == 'фильм' or i == 'фильмы':\n",
        "      print('Я бы посоветовал вам:', random.choise(filmlib))\n",
        "    elif i == 'создай':\n",
        "      print('Укажите без запятых дела, что должны стать списком:')\n",
        "      work = input().split()\n",
        "    elif i == 'выведи':\n",
        "      print('Текущий список дел:')\n",
        "      for k in work:\n",
        "        print('-', k)\n",
        "    elif i == 'обнови':\n",
        "      print('Уточните, хотите ли вы что-то удалить или добавить?')\n",
        "      ex = input()\n",
        "      if ex == 'удалить':\n",
        "        print('Введите удаляемые дела без запятых:')\n",
        "        qwert = input().split()\n",
        "        work -= qwert\n",
        "        print('Процедура проведена успешно')\n",
        "      else:\n",
        "        print('Введите новые дела без запятых:')\n",
        "        qwert = input().split()\n",
        "        work += qwert\n",
        "        print('Процедура проведена успешно')\n",
        "    elif i == 'очисти':\n",
        "      work.clear()"
      ],
      "metadata": {
        "id": "fmW-tmUtINN9"
      },
      "execution_count": null,
      "outputs": []
    },
    {
      "cell_type": "markdown",
      "source": [
        "# **Задача 4.**\n"
      ],
      "metadata": {
        "id": "PHXBfyc6Ko7D"
      }
    },
    {
      "cell_type": "markdown",
      "source": [
        "Камень, ножницы, бумага\n",
        "\n",
        "Создайте игру в Камень, ножницы, бумагу, в которой пользователь может играть против компьютера. Программа должна запросить выбор пользователя, а затем сгенерировать выбор компьютера. Затем программа должна определить победителя на основе правил игры.\n",
        "\n",
        "**Этап 1:**\n",
        "\n",
        "Определение победителя\n",
        "\n",
        "**Этап 2:**\n",
        "  \n",
        "Игра до 3 побед\n",
        "\n",
        "\n",
        "Ввод для \"Этап 1\":\n",
        "\n",
        "```\n",
        "Камень\n",
        "```\n",
        "\n",
        "Вывод:\n",
        "\n",
        "```\n",
        "Компьютер: Ножницы\n",
        "Игрок: Камень\n",
        "Победа: Игрок\n",
        "```"
      ],
      "metadata": {
        "id": "jnKWeYleI0j6"
      }
    },
    {
      "cell_type": "code",
      "source": [
        "import random\n",
        "choicelib=['Камень','Ножницы','Бумага']\n",
        "aich=random.choice(choicelib)\n",
        "pc=input()\n",
        "if aich=='Камень':\n",
        "  if pc=='Камень':\n",
        "    print('Компьютер: Камень','Игрок: Камень','Победа: Ничья', sep='\\n')\n",
        "  elif pc=='Ножницы':\n",
        "    print('Компьютер: Камень','Игрок: Ножницы','Победа: Компьютер', sep='\\n')\n",
        "  elif pc=='Бумага':\n",
        "    print('Компьютер: Камень','Игрок: Бумага','Победа: Игрок', sep='\\n')\n",
        "elif aich=='Ножницы':\n",
        "  if pc=='Камень':\n",
        "    print('Компьютер: Ножницы','Игрок: Камень','Победа: Игрок', sep='\\n')\n",
        "  elif pc=='Ножницы':\n",
        "    print('Компьютер: Ножницы','Игрок: Ножницы','Победа: Ничья', sep='\\n')\n",
        "  elif pc=='Бумага':\n",
        "    print('Компьютер: Ножницы','Игрок: Бумага','Победа: Компьютер', sep='\\n')\n",
        "elif aich=='Бумага':\n",
        "  if pc=='Камень':\n",
        "    print('Компьютер: Бумага','Игрок: Камень','Победа: Компьютер', sep='\\n')\n",
        "  elif pc=='Ножницы':\n",
        "    print('Компьютер: Бумага','Игрок: Ножницы','Победа: Игрок', sep='\\n')\n",
        "  elif pc=='Бумага':\n",
        "    print('Компьютер: Бумага','Игрок: Бумага','Победа: Ничья', sep='\\n')"
      ],
      "metadata": {
        "id": "ooIPCRe_JHkX",
        "colab": {
          "base_uri": "https://localhost:8080/"
        },
        "outputId": "545770bc-5d65-4c3c-841f-1476ed36dff2"
      },
      "execution_count": null,
      "outputs": [
        {
          "output_type": "stream",
          "name": "stdout",
          "text": [
            "Камень\n",
            "Компьютер: Бумага\n",
            "Игрок: Камень\n",
            "Победа: Компьютер\n"
          ]
        }
      ]
    },
    {
      "cell_type": "markdown",
      "source": [
        "# **Задача 5.**"
      ],
      "metadata": {
        "id": "Hg4FJNFbLHQO"
      }
    },
    {
      "cell_type": "markdown",
      "source": [
        "Создайте игру \"Палач\" или \"Виселица\", в которой пользователь должен угадать слово, предлагая буквы. Программа должна выбрать случайное слово, а затем разрешить пользователю угадывать буквы. После каждого угадывания программа должна сообщать пользователю, есть ли в слове буква или нет.\n",
        "\n",
        "**Этап 1**\n",
        "Создать саму игру (игра должна иметь привлекательный интерфейс, соотвесвующий классической висилице)\n",
        "\n",
        "**Этап 2:**\n",
        "Ввести подсчет количества очков и ограничения на попытки\n",
        "\n",
        "**Этап 3:** Добавить возможность сразу угадать слово"
      ],
      "metadata": {
        "id": "OHqj3HJuLJgY"
      }
    },
    {
      "cell_type": "code",
      "source": [
        "import random\n",
        "choicelib=('бабка', 'домино', 'знахарь', 'квас', 'колбаса', 'академия', 'видеокассета', 'платформа', 'струна', 'лавочка', 'панорама', 'карамелька', 'комбайнер', 'актив', 'усадьба', 'арбалетчик', 'песок', 'кружево', 'траншея', 'гирлянда')\n",
        "aich=random.choice(choicelib)\n",
        "let=list(aich)\n",
        "failcount=0\n",
        "print('Желаете сразу ввести слово?')\n",
        "ggh=input()\n",
        "if ggh=='Да':\n",
        "  fin=input()\n",
        "  if fin==aich:\n",
        "    print('Поздравляем! Вы подебили!')\n",
        "  else:\n",
        "    print('Неа!')\n",
        "    failcount+=1\n",
        "while failcount<6:\n",
        "  print('Введите вариант буквы:')\n",
        "  var=input()\n",
        "  k=0\n",
        "  tk=0\n",
        "  for i in let:\n",
        "    k+=1\n",
        "    if var==i:\n",
        "      print('Эта буква есть там и она находиться там на позиции ', k)\n",
        "      tk+=1\n",
        "  if tk==\n",
        "  0:\n",
        "    failcount+=1\n",
        "  print('Желаете ввести слово?')\n",
        "  ggh=input()\n",
        "  if ggh=='Да':\n",
        "    fin=input()\n",
        "    if fin==aich:\n",
        "      print('Поздравляем! Вы подебили!')\n",
        "      break\n",
        "    else:\n",
        "      print('Неа!')\n",
        "      failcount+=1\n",
        "if failcount==6:\n",
        "  print('Вы повесились!')"
      ],
      "metadata": {
        "id": "0N2zCYwVLiIw",
        "colab": {
          "base_uri": "https://localhost:8080/",
          "height": 564
        },
        "outputId": "aed6ba34-9c5c-4e77-8c8f-68dac248a6c9"
      },
      "execution_count": null,
      "outputs": [
        {
          "output_type": "stream",
          "name": "stdout",
          "text": [
            "Желаете сразу ввести слово?\n",
            "Русский\n",
            "Введите вариант буквы:\n",
            "А\n",
            "Желаете ввести слово?\n",
            "нет\n",
            "Введите вариант буквы:\n",
            "о\n",
            "Эта буква есть там и она находиться там на позиции  2\n",
            "Желаете ввести слово?\n",
            "колбаса\n",
            "Введите вариант буквы:\n"
          ]
        },
        {
          "output_type": "error",
          "ename": "KeyboardInterrupt",
          "evalue": "Interrupted by user",
          "traceback": [
            "\u001b[0;31m---------------------------------------------------------------------------\u001b[0m",
            "\u001b[0;31mKeyboardInterrupt\u001b[0m                         Traceback (most recent call last)",
            "\u001b[0;32m<ipython-input-51-f552ed06fb21>\u001b[0m in \u001b[0;36m<cell line: 15>\u001b[0;34m()\u001b[0m\n\u001b[1;32m     15\u001b[0m \u001b[0;32mwhile\u001b[0m \u001b[0mfailcount\u001b[0m\u001b[0;34m<\u001b[0m\u001b[0;36m6\u001b[0m\u001b[0;34m:\u001b[0m\u001b[0;34m\u001b[0m\u001b[0;34m\u001b[0m\u001b[0m\n\u001b[1;32m     16\u001b[0m   \u001b[0mprint\u001b[0m\u001b[0;34m(\u001b[0m\u001b[0;34m'Введите вариант буквы:'\u001b[0m\u001b[0;34m)\u001b[0m\u001b[0;34m\u001b[0m\u001b[0;34m\u001b[0m\u001b[0m\n\u001b[0;32m---> 17\u001b[0;31m   \u001b[0mvar\u001b[0m\u001b[0;34m=\u001b[0m\u001b[0minput\u001b[0m\u001b[0;34m(\u001b[0m\u001b[0;34m)\u001b[0m\u001b[0;34m\u001b[0m\u001b[0;34m\u001b[0m\u001b[0m\n\u001b[0m\u001b[1;32m     18\u001b[0m   \u001b[0mk\u001b[0m\u001b[0;34m=\u001b[0m\u001b[0;36m0\u001b[0m\u001b[0;34m\u001b[0m\u001b[0;34m\u001b[0m\u001b[0m\n\u001b[1;32m     19\u001b[0m   \u001b[0mtk\u001b[0m\u001b[0;34m=\u001b[0m\u001b[0;36m0\u001b[0m\u001b[0;34m\u001b[0m\u001b[0;34m\u001b[0m\u001b[0m\n",
            "\u001b[0;32m/usr/local/lib/python3.10/dist-packages/ipykernel/kernelbase.py\u001b[0m in \u001b[0;36mraw_input\u001b[0;34m(self, prompt)\u001b[0m\n\u001b[1;32m    849\u001b[0m                 \u001b[0;34m\"raw_input was called, but this frontend does not support input requests.\"\u001b[0m\u001b[0;34m\u001b[0m\u001b[0;34m\u001b[0m\u001b[0m\n\u001b[1;32m    850\u001b[0m             )\n\u001b[0;32m--> 851\u001b[0;31m         return self._input_request(str(prompt),\n\u001b[0m\u001b[1;32m    852\u001b[0m             \u001b[0mself\u001b[0m\u001b[0;34m.\u001b[0m\u001b[0m_parent_ident\u001b[0m\u001b[0;34m,\u001b[0m\u001b[0;34m\u001b[0m\u001b[0;34m\u001b[0m\u001b[0m\n\u001b[1;32m    853\u001b[0m             \u001b[0mself\u001b[0m\u001b[0;34m.\u001b[0m\u001b[0m_parent_header\u001b[0m\u001b[0;34m,\u001b[0m\u001b[0;34m\u001b[0m\u001b[0;34m\u001b[0m\u001b[0m\n",
            "\u001b[0;32m/usr/local/lib/python3.10/dist-packages/ipykernel/kernelbase.py\u001b[0m in \u001b[0;36m_input_request\u001b[0;34m(self, prompt, ident, parent, password)\u001b[0m\n\u001b[1;32m    893\u001b[0m             \u001b[0;32mexcept\u001b[0m \u001b[0mKeyboardInterrupt\u001b[0m\u001b[0;34m:\u001b[0m\u001b[0;34m\u001b[0m\u001b[0;34m\u001b[0m\u001b[0m\n\u001b[1;32m    894\u001b[0m                 \u001b[0;31m# re-raise KeyboardInterrupt, to truncate traceback\u001b[0m\u001b[0;34m\u001b[0m\u001b[0;34m\u001b[0m\u001b[0m\n\u001b[0;32m--> 895\u001b[0;31m                 \u001b[0;32mraise\u001b[0m \u001b[0mKeyboardInterrupt\u001b[0m\u001b[0;34m(\u001b[0m\u001b[0;34m\"Interrupted by user\"\u001b[0m\u001b[0;34m)\u001b[0m \u001b[0;32mfrom\u001b[0m \u001b[0;32mNone\u001b[0m\u001b[0;34m\u001b[0m\u001b[0;34m\u001b[0m\u001b[0m\n\u001b[0m\u001b[1;32m    896\u001b[0m             \u001b[0;32mexcept\u001b[0m \u001b[0mException\u001b[0m \u001b[0;32mas\u001b[0m \u001b[0me\u001b[0m\u001b[0;34m:\u001b[0m\u001b[0;34m\u001b[0m\u001b[0;34m\u001b[0m\u001b[0m\n\u001b[1;32m    897\u001b[0m                 \u001b[0mself\u001b[0m\u001b[0;34m.\u001b[0m\u001b[0mlog\u001b[0m\u001b[0;34m.\u001b[0m\u001b[0mwarning\u001b[0m\u001b[0;34m(\u001b[0m\u001b[0;34m\"Invalid Message:\"\u001b[0m\u001b[0;34m,\u001b[0m \u001b[0mexc_info\u001b[0m\u001b[0;34m=\u001b[0m\u001b[0;32mTrue\u001b[0m\u001b[0;34m)\u001b[0m\u001b[0;34m\u001b[0m\u001b[0;34m\u001b[0m\u001b[0m\n",
            "\u001b[0;31mKeyboardInterrupt\u001b[0m: Interrupted by user"
          ]
        }
      ]
    },
    {
      "cell_type": "markdown",
      "source": [
        "# **Дополнительно: Задача 6.**\n"
      ],
      "metadata": {
        "id": "w0x3QFGzKtDD"
      }
    },
    {
      "cell_type": "markdown",
      "source": [
        "\n",
        "**Цифра на определенном месте:**\n",
        "\n",
        "Последовательно записан натуральный ряд чисел.\n",
        "\n",
        "Какая цифра стоит в N позиции\n",
        "\n",
        "\n",
        "Вввод:\n",
        "\n",
        "```\n",
        "Введите номер позиции: 1234567890\n",
        "```\n",
        "\n",
        "Вывод:\n",
        "\n",
        "```\n",
        "8\n",
        "```"
      ],
      "metadata": {
        "id": "QqZArcpHJxVj"
      }
    },
    {
      "cell_type": "code",
      "source": [
        "num=int(input())\n",
        "count=0\n",
        "for i in range(1,len(str(num))+1):\n",
        "  k+=9*(i*10**(i-1))\n",
        "  if num-count<0:\n",
        "    break\n",
        "chis1=num-(count-(9*(i*10**(i-1))))\n",
        "chis2=(chis1//i)+10**(i-1)\n",
        "razn=chis1-(chis1//i)*i\n",
        "print(str(chis2)[razn-1])"
      ],
      "metadata": {
        "id": "LwjYwBGcKiJ9",
        "colab": {
          "base_uri": "https://localhost:8080/"
        },
        "outputId": "044ad705-3d85-4e8b-c204-8bbb99b1f801"
      },
      "execution_count": null,
      "outputs": [
        {
          "output_type": "stream",
          "name": "stdout",
          "text": [
            "1234567890\n",
            "9\n"
          ]
        }
      ]
    }
  ]
}