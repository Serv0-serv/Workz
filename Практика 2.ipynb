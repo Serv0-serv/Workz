{
  "nbformat": 4,
  "nbformat_minor": 0,
  "metadata": {
    "colab": {
      "provenance": []
    },
    "kernelspec": {
      "name": "python3",
      "display_name": "Python 3"
    },
    "language_info": {
      "name": "python"
    }
  },
  "cells": [
    {
      "cell_type": "markdown",
      "source": [
        "Напишите свое ФИО:"
      ],
      "metadata": {
        "id": "0PnTh-ajEoEb"
      }
    },
    {
      "cell_type": "code",
      "source": [
        "Первушин Юрий Александрович"
      ],
      "metadata": {
        "id": "mXF7fGfVkOZm",
        "outputId": "55dc822c-3000-471e-dc7f-658a349a809b",
        "colab": {
          "base_uri": "https://localhost:8080/",
          "height": 106
        }
      },
      "execution_count": null,
      "outputs": [
        {
          "output_type": "error",
          "ename": "SyntaxError",
          "evalue": "invalid syntax (<ipython-input-1-3439d41df627>, line 1)",
          "traceback": [
            "\u001b[0;36m  File \u001b[0;32m\"<ipython-input-1-3439d41df627>\"\u001b[0;36m, line \u001b[0;32m1\u001b[0m\n\u001b[0;31m    Первушин Юрий Александрович\u001b[0m\n\u001b[0m             ^\u001b[0m\n\u001b[0;31mSyntaxError\u001b[0m\u001b[0;31m:\u001b[0m invalid syntax\n"
          ]
        }
      ]
    },
    {
      "cell_type": "code",
      "source": [
        "print('Привет студентам!')"
      ],
      "metadata": {
        "id": "QyMVPjzWErHw",
        "colab": {
          "base_uri": "https://localhost:8080/"
        },
        "outputId": "7a1724de-56a9-4b4e-f7dd-d5fca42ff012"
      },
      "execution_count": null,
      "outputs": [
        {
          "output_type": "stream",
          "name": "stdout",
          "text": [
            "Привет студентам!\n"
          ]
        }
      ]
    },
    {
      "cell_type": "markdown",
      "source": [
        "# Основы"
      ],
      "metadata": {
        "id": "HPwKiIA4EKO-"
      }
    },
    {
      "cell_type": "markdown",
      "source": [
        "Задание 1: Напиши программу, выводящую на экран сообщение \"Привет, мир!\""
      ],
      "metadata": {
        "id": "8po5IidFERZ8"
      }
    },
    {
      "cell_type": "code",
      "execution_count": null,
      "metadata": {
        "id": "sBRjlCVLEIQr",
        "outputId": "4796d61f-fedd-40e1-947d-25c27c2cfe1a",
        "colab": {
          "base_uri": "https://localhost:8080/"
        }
      },
      "outputs": [
        {
          "output_type": "stream",
          "name": "stdout",
          "text": [
            "Привет, мир!\n"
          ]
        }
      ],
      "source": [
        "print('Привет, мир!')"
      ]
    },
    {
      "cell_type": "markdown",
      "source": [
        "Задание 2: Напиши программу которая запрашивает имя пользователя и выводит сообщение:\n",
        "\n",
        "`Привет, <Имя пользователя>`"
      ],
      "metadata": {
        "id": "pUQIIo94EYLg"
      }
    },
    {
      "cell_type": "code",
      "source": [
        "print('Введите свое имя:')\n",
        "username=input()\n",
        "print('Привет, ',username)"
      ],
      "metadata": {
        "id": "nNwHKmAnEinH",
        "colab": {
          "base_uri": "https://localhost:8080/"
        },
        "outputId": "45f2d208-ec0f-4c4e-b890-cb1d4d7219a5"
      },
      "execution_count": null,
      "outputs": [
        {
          "output_type": "stream",
          "name": "stdout",
          "text": [
            "Введите свое имя:\n",
            "lkj\n",
            "Привет,  lkj\n"
          ]
        }
      ]
    },
    {
      "cell_type": "markdown",
      "source": [
        "Задание 3: Напиши программу определяющую является ли число четным или нечетным:\n",
        "\n",
        "Пример:\n",
        "\n",
        "`Введите число:` 2\n",
        "\n",
        "`Ваше число четное!`"
      ],
      "metadata": {
        "id": "SAUm9W6_Etkh"
      }
    },
    {
      "cell_type": "code",
      "source": [
        "print('Введите число:')\n",
        "x=int(input())\n",
        "if x%2==0:\n",
        "  print('Ваше число четное!')\n",
        "else:\n",
        "  print('Ваше число нечентное!')"
      ],
      "metadata": {
        "id": "LXv7AIN1E4on",
        "colab": {
          "base_uri": "https://localhost:8080/"
        },
        "outputId": "359820f5-47e3-419b-d296-8f84fca1b468"
      },
      "execution_count": null,
      "outputs": [
        {
          "output_type": "stream",
          "name": "stdout",
          "text": [
            "Введите число:\n",
            "5\n",
            "Ваше число нечентное!\n"
          ]
        }
      ]
    },
    {
      "cell_type": "markdown",
      "source": [
        "Задание 4: Напишите программу которая запрашивает длинну и ширину прямоугольника и выводит его площадь:\n",
        "\n",
        "\n",
        "\n",
        "`Введите длинну прямоугольника:`\n",
        "\n",
        "`Введите ширину прямоугольника:`\n",
        "\n",
        "`Площадь прямоугольника: `\n",
        "\n"
      ],
      "metadata": {
        "id": "OW1Y5KyUE_n9"
      }
    },
    {
      "cell_type": "code",
      "source": [
        "print('Введите длину прямоугольника:')\n",
        "x=int(input())\n",
        "print('Введите ширину прямоугольника:')\n",
        "y=int(input())\n",
        "S=x*y\n",
        "print('Площадь прямоугольника равна ', S)"
      ],
      "metadata": {
        "id": "Bu5iawknFbXP",
        "colab": {
          "base_uri": "https://localhost:8080/"
        },
        "outputId": "c315763a-d755-4a5c-9fd8-a04f0d29d577"
      },
      "execution_count": null,
      "outputs": [
        {
          "output_type": "stream",
          "name": "stdout",
          "text": [
            "Введите длину прямоугольника:\n",
            "2\n",
            "Введите ширину прямоугольника:\n",
            "5\n",
            "Площадь прямоугольника равна  10\n"
          ]
        }
      ]
    },
    {
      "cell_type": "markdown",
      "source": [
        "Задание 5: Напишите программу, которая будет вычислять среднее арифметическое введенных чисел"
      ],
      "metadata": {
        "id": "xj8_QNLsFfLw"
      }
    },
    {
      "cell_type": "code",
      "source": [
        "mid=0\n",
        "print('Сколько будет чисел?')\n",
        "num=int(input())\n",
        "count=num\n",
        "\n",
        "while count>0:\n",
        "  print('Введите число:')\n",
        "  add=int(input())\n",
        "  mid+=add\n",
        "  count-=1\n",
        "mid=mid/num\n",
        "print('Среднее арифметическое равно ', mid)"
      ],
      "metadata": {
        "id": "omumX59JFoKw",
        "colab": {
          "base_uri": "https://localhost:8080/"
        },
        "outputId": "c762207c-8366-4990-f757-33a03e81b4ba"
      },
      "execution_count": null,
      "outputs": [
        {
          "output_type": "stream",
          "name": "stdout",
          "text": [
            "Сколько будет чисел?\n",
            "3\n",
            "Введите число:\n",
            "1\n",
            "Введите число:\n",
            "2\n",
            "Введите число:\n",
            "3\n",
            "Среднее арифметическое равно  2.0\n"
          ]
        }
      ]
    },
    {
      "cell_type": "markdown",
      "source": [
        "Задание 6: Напишите программу, которая бы определяла является ли год високосным\n",
        "Пример:\n",
        "\n",
        "`Введите год:` 2024\n",
        "\n",
        "`Ваш год високосный!`"
      ],
      "metadata": {
        "id": "qHXcBMUJcP91"
      }
    },
    {
      "cell_type": "code",
      "source": [
        "print('Введите год:')\n",
        "god=int(input())\n",
        "if god%4==0:\n",
        "  if god%100!=0:\n",
        "    print('Год високосный!')\n",
        "  elif god%400==0:\n",
        "    print('Год високосный!')\n",
        "  else:\n",
        "    print('Год невисокосный!')\n",
        "else:\n",
        "  print('Год невисокосный!')"
      ],
      "metadata": {
        "id": "5zIg47mwcKKr",
        "colab": {
          "base_uri": "https://localhost:8080/"
        },
        "outputId": "26e0f3c6-1516-462c-baa0-c73b1e59b88d"
      },
      "execution_count": null,
      "outputs": [
        {
          "output_type": "stream",
          "name": "stdout",
          "text": [
            "Введите год:\n",
            "1500\n",
            "Год невисокосный!\n"
          ]
        }
      ]
    },
    {
      "cell_type": "markdown",
      "source": [
        "Задание 7: Необходимо создать простой калькулятор, который позволяет пользователю выбрать одну из четырёх операций (+, -, *, /), ввести два числа и получить результат выполнения операции.\n",
        "\n",
        "`Введите операцию:`\n",
        "\n",
        "`Введите первое число:`\n",
        "\n",
        "`Введите второе число:`\n",
        "\n",
        "`Результат выполнения: `\n"
      ],
      "metadata": {
        "id": "CYaQ69kucdhj"
      }
    },
    {
      "cell_type": "code",
      "source": [
        "print('Введите операцию')\n",
        "oper=input()\n",
        "print('Введите первое число:')\n",
        "x=int(input())\n",
        "print('Введите второе число:')\n",
        "y=int(input())\n",
        "if oper=='+':\n",
        "  print(x+y)\n",
        "elif oper=='-':\n",
        "  print(x-y)\n",
        "elif oper=='*':\n",
        "  print(x*y)\n",
        "elif oper=='/':\n",
        "  print(x/y)"
      ],
      "metadata": {
        "id": "wR5UyEf7ciIE",
        "colab": {
          "base_uri": "https://localhost:8080/"
        },
        "outputId": "9324c949-9f17-4d0a-b2fd-bcf7fd3b6dd5"
      },
      "execution_count": null,
      "outputs": [
        {
          "output_type": "stream",
          "name": "stdout",
          "text": [
            "Введите операцию\n",
            "/\n",
            "Введите первое число:\n",
            "10\n",
            "Введите второе число:\n",
            "2\n",
            "5.0\n"
          ]
        }
      ]
    },
    {
      "cell_type": "markdown",
      "source": [
        "# Практика 0.2.1"
      ],
      "metadata": {
        "id": "XWBhGpdEFo-U"
      }
    },
    {
      "cell_type": "markdown",
      "source": [
        "**Шахматы**\n",
        "\n",
        "Даны стартовые и конечные координаты, а также фигура\n",
        "\n",
        "Необходимо определить, может ли заданная фигура так ходить?"
      ],
      "metadata": {
        "id": "9Lw9odpqFwtn"
      }
    },
    {
      "cell_type": "code",
      "source": [
        "#fig=input()\n",
        "pos=input()\n",
        "fin=input()\n",
        "x1=ord(pos[0])-96\n",
        "y1=int(pos[1])\n",
        "x2=ord(fin[0])-96\n",
        "y2=fin[1]\n",
        "if fig=='ладья':\n",
        "  if x1==x2 or y1==y2:\n",
        "    print('Ход возможен')\n",
        "  else:\n",
        "    print('Ход невозможен')\n",
        "elif fig=='слон':\n",
        "  if x2-x1==y2-y1:\n",
        "    print('Ход возможен')\n",
        "  else:\n",
        "    print('Ход невозможен')\n",
        "elif fig=='королева':\n",
        "  if x1==x2 or y1==y2 or x2-x1==y2-y1:\n",
        "    print('Ход возможен')\n",
        "  else:\n",
        "    print('Ход невозможен')\n",
        "elif fig=='король':\n",
        "  if x1==x2+1 or y1==y2+1 or x1==y2-1 or y1==y2-1:\n",
        "    print('Ход возможен')\n",
        "  else:\n",
        "    print('Ход невозможен')\n",
        "elif fig=='конь':\n"
      ],
      "metadata": {
        "id": "9IICo0p3F07P",
        "colab": {
          "base_uri": "https://localhost:8080/"
        },
        "outputId": "33e509e8-f906-4d92-ceb4-8a367b6219ad"
      },
      "execution_count": null,
      "outputs": [
        {
          "output_type": "stream",
          "name": "stdout",
          "text": [
            "a2\n",
            "b3\n",
            "1 2 2 3\n"
          ]
        }
      ]
    },
    {
      "cell_type": "markdown",
      "source": [
        "# Практика 0.2.2\n",
        "\n",
        "**Цифра на определенном месте:**\n",
        "\n",
        "Последовательно записан натуральный ряд чисел.\n",
        "\n",
        "Какая цифра стоит в N позиции"
      ],
      "metadata": {
        "id": "wI5bLNpHGDmO"
      }
    },
    {
      "cell_type": "code",
      "source": [
        "n=int(input())\n",
        "k=0\n",
        "for i in range(n,1,-1):\n",
        "  if i%7==0:\n",
        "    bl=i\n",
        "    break\n",
        "for j in range(len(str(n))+1):\n",
        "  k+=9*(j*10**j)\n",
        "  if k<n: break\n"
      ],
      "metadata": {
        "id": "XLm_zFGzGNsU",
        "colab": {
          "base_uri": "https://localhost:8080/"
        },
        "outputId": "a19f1a79-cab9-4949-834a-922223312346"
      },
      "execution_count": null,
      "outputs": [
        {
          "output_type": "stream",
          "name": "stdout",
          "text": [
            "Введите позицию N 10000000\n",
            "7\n"
          ]
        }
      ]
    },
    {
      "cell_type": "markdown",
      "source": [
        "# Практика 0.2.3\n",
        "\n",
        "\n",
        "Возьмите код из задания 7 и улучшите ваш калькулятор следующим образом:\n",
        "\n",
        "Пользователь вводит строку вида:\n",
        "\n",
        "(5+5)*5 - данная строка содержит в себе математическое выражение, а также скобки\n",
        "\n",
        "Ваша программа должная понять что за математическое выражение записано, проверить верно ли оно записано (пример неверного заполнения: (5(+)5)*5, а также расчитать его в соотвествии с правилами математики"
      ],
      "metadata": {
        "id": "dpxTJv-scnMy"
      }
    },
    {
      "cell_type": "code",
      "source": [
        "print('Введите операцию')\n",
        "oper=input()\n",
        "print(eval(oper))"
      ],
      "metadata": {
        "id": "18gOluyHcmmf",
        "colab": {
          "base_uri": "https://localhost:8080/"
        },
        "outputId": "943fd980-7ad3-4a49-b9e4-afec27c1e6ed"
      },
      "execution_count": 4,
      "outputs": [
        {
          "output_type": "stream",
          "name": "stdout",
          "text": [
            "Введите операцию\n",
            "(5+5)*5\n",
            "50\n"
          ]
        }
      ]
    }
  ]
}